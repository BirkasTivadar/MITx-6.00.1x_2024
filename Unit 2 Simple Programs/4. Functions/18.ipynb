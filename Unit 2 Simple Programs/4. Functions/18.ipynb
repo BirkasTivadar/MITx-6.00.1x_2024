{
 "cells": [
  {
   "cell_type": "markdown",
   "metadata": {},
   "source": [
    "Exercise: power recur"
   ]
  },
  {
   "cell_type": "markdown",
   "metadata": {},
   "source": [
    "In Problem 1, we computed an exponential by iteratively executing successive multiplications. We can use the same idea, but in a recursive function.\n",
    "\n",
    "Write a function recurPower(base, exp) which computes $base^{exp}$ by recursively calling itself to solve a smaller version of the same problem, and then multiplying the result by base to solve the initial problem.\n",
    "\n",
    "This function should take in two values - base can be a float or an integer; exp will be an integer >= 0. It should return one numerical value. Your code must be recursive - use of the ** operator or looping constructs is not allowed."
   ]
  },
  {
   "cell_type": "code",
   "execution_count": 1,
   "metadata": {},
   "outputs": [],
   "source": [
    "def recurPower(base, exp):\n",
    "    \"\"\"\n",
    "    base: int or float.\n",
    "    exp: int >= 0\n",
    "\n",
    "    returns: int or float, base^exp\n",
    "    \"\"\"\n",
    "    if exp == 0:\n",
    "        return 1\n",
    "    if exp == 1:\n",
    "        return base\n",
    "    else:\n",
    "        return recurPower(base, exp - 1) * base"
   ]
  },
  {
   "cell_type": "markdown",
   "metadata": {},
   "source": [
    "Note: In programming there are many ways to solve a problem. For your code to check correctly here, though, you must write your recursive function such that you make a recursive call directly to the function recurPower. Thank you for understanding."
   ]
  },
  {
   "cell_type": "markdown",
   "metadata": {},
   "source": [
    "Hints\n",
    "\n",
    "What should your base case be?<br>\n",
    "To figure out what base case to use, think about what the smallest value of exp can be.\n",
    "\n",
    "Smallest value of exp?<br>\n",
    "Recall that exp will be an integer greater than or equal to zero - so, the smallest value of exp is zero. What is the value of $base^{exp}$ when exp equals zero, for any value of base?\n",
    "\n",
    "\n",
    "Thinking about recursion<br>\n",
    "A good way to think about recursion is that recursion is the process of solving a given problem with a smaller instance of the same problem.<br>\n",
    "So, how could we express $base^{exp}$ as a smaller instance of an exponential equation?\n",
    "\n",
    "How to break down the equation<br>\n",
    "$base^{exp}$ = base · $base^{exp-1}$<br>\n",
    "To convince yourself this is true, put in real numbers for base and exp; then, work through the recursion over and over until you reach your base case."
   ]
  },
  {
   "cell_type": "markdown",
   "metadata": {},
   "source": [
    "If you are getting the error stating that \"Your code should be recursive\" when you already make a call to recurPower: check your indention -- specifically, a common mistake is that your function and docstring do not start at the same indentation level."
   ]
  }
 ],
 "metadata": {
  "kernelspec": {
   "display_name": "Python 3",
   "language": "python",
   "name": "python3"
  },
  "language_info": {
   "codemirror_mode": {
    "name": "ipython",
    "version": 3
   },
   "file_extension": ".py",
   "mimetype": "text/x-python",
   "name": "python",
   "nbconvert_exporter": "python",
   "pygments_lexer": "ipython3",
   "version": "3.11.1"
  }
 },
 "nbformat": 4,
 "nbformat_minor": 2
}
