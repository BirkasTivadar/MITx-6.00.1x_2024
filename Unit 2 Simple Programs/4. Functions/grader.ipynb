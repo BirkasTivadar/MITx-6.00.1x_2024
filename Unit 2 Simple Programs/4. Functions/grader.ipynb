{
 "cells": [
  {
   "cell_type": "markdown",
   "metadata": {},
   "source": [
    "Grader"
   ]
  },
  {
   "cell_type": "markdown",
   "metadata": {},
   "source": [
    "A regular polygon has n number of sides. Each side has length s.\n",
    "\n",
    "The area of a regular polygon is: $\\frac{0.25·n·s^2}{tan(π/n)}$<br>\n",
    "The perimeter of a polygon is: length of the boundary of the polygon\n",
    "Write a function called polysum that takes 2 arguments, n and s. This function should sum the area and square of the perimeter of the regular polygon. The function returns the sum, rounded to 4 decimal places."
   ]
  },
  {
   "cell_type": "markdown",
   "metadata": {},
   "source": [
    "Hint: What to import?<br>\n",
    "Which library should you be importing at the beginning of your code in order to call the tan function and to get the pi constant?"
   ]
  },
  {
   "cell_type": "markdown",
   "metadata": {},
   "source": [
    "This is an optional exercise, but great for extra practice!"
   ]
  },
  {
   "cell_type": "code",
   "execution_count": 59,
   "metadata": {},
   "outputs": [],
   "source": [
    "import math\n",
    "\n",
    "\n",
    "def polysum(n: int, s: float):\n",
    "    if n < 2:\n",
    "        print(\"It is not a polygon\")\n",
    "        return\n",
    "\n",
    "    perimeter = n * s\n",
    "\n",
    "    area = (0.25 * n * math.pow(s, 2)) / math.tan(math.pi / n)\n",
    "\n",
    "    sum = area + math.pow(perimeter, 2)\n",
    "\n",
    "    return round(sum, 4)"
   ]
  },
  {
   "cell_type": "code",
   "execution_count": 60,
   "metadata": {},
   "outputs": [
    {
     "name": "stdout",
     "output_type": "stream",
     "text": [
      "The test in line 3 is correct.\n",
      "The test in line 4 is correct.\n",
      "The test in line 5 is correct.\n",
      "The test in line 6 is correct.\n",
      "The test in line 7 is correct.\n",
      "The test in line 8 is correct.\n",
      "The test in line 9 is correct.\n",
      "The test in line 10 is correct.\n",
      "The test in line 11 is correct.\n",
      "The test in line 12 is correct.\n"
     ]
    }
   ],
   "source": [
    "from check import teszt\n",
    "\n",
    "teszt(polysum(42, 11) == 230397.6443)\n",
    "teszt(polysum(77, 59) == 22280324.9942)\n",
    "teszt(polysum(99, 39) == 16093209.6891)\n",
    "teszt(polysum(72, 92) == 47366810.4888)\n",
    "teszt(polysum(80, 54) == 20146743.1195)\n",
    "teszt(polysum(28, 67) == 3798262.8386)\n",
    "teszt(polysum(90, 77) == 51845047.7786)\n",
    "teszt(polysum(8, 53) == 193339.0518)\n",
    "teszt(polysum(53, 6) == 109161.7652)\n",
    "teszt(polysum(25, 97) == 6346124.401)"
   ]
  }
 ],
 "metadata": {
  "kernelspec": {
   "display_name": "Python 3",
   "language": "python",
   "name": "python3"
  },
  "language_info": {
   "codemirror_mode": {
    "name": "ipython",
    "version": 3
   },
   "file_extension": ".py",
   "mimetype": "text/x-python",
   "name": "python",
   "nbconvert_exporter": "python",
   "pygments_lexer": "ipython3",
   "version": "3.11.1"
  }
 },
 "nbformat": 4,
 "nbformat_minor": 2
}
