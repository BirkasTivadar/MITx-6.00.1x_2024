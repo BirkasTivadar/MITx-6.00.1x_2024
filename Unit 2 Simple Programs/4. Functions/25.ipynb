{
 "cells": [
  {
   "cell_type": "markdown",
   "metadata": {},
   "source": [
    "Exercise: is in"
   ]
  },
  {
   "cell_type": "markdown",
   "metadata": {},
   "source": [
    "We can use the idea of bisection search to determine if a character is in a string, so long as the string is sorted in alphabetical order.\n",
    "\n",
    "First, test the middle character of a string against the character you're looking for (the \"test character\"). If they are the same, we are done - we've found the character we're looking for!\n",
    "\n",
    "If they're not the same, check if the test character is \"smaller\" than the middle character. If so, we need only consider the lower half of the string; otherwise, we only consider the upper half of the string. (Note that you can compare characters using Python's < function.)\n",
    "\n",
    "Implement the function isIn(char, aStr) which implements the above idea recursively to test if char is in aStr. char will be a single character and aStr will be a string that is in alphabetical order. The function should return a boolean value.\n",
    "\n",
    "As you design the function, think very carefully about what the base cases should be."
   ]
  },
  {
   "cell_type": "code",
   "execution_count": null,
   "metadata": {},
   "outputs": [],
   "source": [
    "def isIn(char, aStr):\n",
    "    \"\"\"\n",
    "    char: a single character\n",
    "    aStr: an alphabetized string\n",
    "\n",
    "    returns: True if char is in aStr; False otherwise\n",
    "    \"\"\"\n",
    "    size = len(aStr)\n",
    "\n",
    "    if size == 0:\n",
    "        return False\n",
    "\n",
    "    if size == 1:\n",
    "        return char == aStr\n",
    "\n",
    "    index = size // 2\n",
    "\n",
    "    if char == aStr[index]:\n",
    "        return True\n",
    "\n",
    "    if char < aStr[index]:\n",
    "        return isIn(char, aStr[:index])\n",
    "    else:\n",
    "        return isIn(char, aStr[index:])"
   ]
  },
  {
   "cell_type": "markdown",
   "metadata": {},
   "source": [
    "Note: In programming there are many ways to solve a problem. For your code to check correctly here, though, you must write your recursive function such that you make a recursive call directly to the function isIn. Thank you for understanding."
   ]
  },
  {
   "cell_type": "markdown",
   "metadata": {},
   "source": [
    "Hints"
   ]
  },
  {
   "cell_type": "markdown",
   "metadata": {},
   "source": [
    "Basic function structuring<br>\n",
    "\n",
    "Be very careful about how you slice the string in the recursive cases! Before you execute the recursive cases, you test the middle character - so if you reach the recursive cases, you know the middle character cannot be a match, right? So be careful to not include this character when you make your recursive call!"
   ]
  },
  {
   "cell_type": "markdown",
   "metadata": {},
   "source": [
    "What should your base case be?<br>\n",
    "\n",
    "You should be thinking about 3 situations:<br>\n",
    "<ul>\n",
    "<li>What happens when the string is empty?</li>\n",
    "<li>What happens when the string is of length 1?</li>\n",
    "<li>What happens when the test character equals the middle character?</li>\n",
    "</ul>"
   ]
  },
  {
   "cell_type": "markdown",
   "metadata": {},
   "source": [
    "What should your recursive case be?\n",
    "\n",
    "You should be thinking about 2 situations:<br>\n",
    "<ul>\n",
    "<li>What happens when the test character is smaller than the middle character?</li>\n",
    "<li>What happens when it is larger?</li>\n",
    "</ul>"
   ]
  },
  {
   "cell_type": "markdown",
   "metadata": {},
   "source": [
    "If you are getting the error stating that \"Your code should be recursive\" when you already make a call to isIn: check your indention -- specifically, a common mistake is that your function and docstring do not start at the same indentation level."
   ]
  }
 ],
 "metadata": {
  "language_info": {
   "name": "python"
  }
 },
 "nbformat": 4,
 "nbformat_minor": 2
}
