{
 "cells": [
  {
   "cell_type": "markdown",
   "metadata": {},
   "source": [
    "Exercise: gcd recur"
   ]
  },
  {
   "cell_type": "markdown",
   "metadata": {},
   "source": [
    "The greatest common divisor of two positive integers is the largest integer that divides each of them without remainder. For example,\n",
    "\n",
    "gcd(2, 12) = 2\n",
    "\n",
    "gcd(6, 12) = 6\n",
    "\n",
    "gcd(9, 12) = 3\n",
    "\n",
    "gcd(17, 12) = 1\n",
    "\n",
    "A clever mathematical trick (due to Euclid) makes it easy to find greatest common divisors. Suppose that a and b are two positive integers:\n",
    "\n",
    "If b = 0, then the answer is a\n",
    "\n",
    "Otherwise, gcd(a, b) is the same as gcd(b, a % b)\n",
    "\n",
    "See this website for an example of Euclid's algorithm being used to find the gcd.<br>\n",
    "https://en.wikipedia.org/wiki/Euclidean_algorithm#Worked_example\n",
    "\n",
    "Write a function gcdRecur(a, b) that implements this idea recursively. This function takes in two positive integers and returns one integer."
   ]
  },
  {
   "cell_type": "code",
   "execution_count": 11,
   "metadata": {},
   "outputs": [],
   "source": [
    "def gcdRecur(a, b):\n",
    "    '''\n",
    "    a, b: positive integers\n",
    "\n",
    "    returns: a positive integer, the greatest common divisor of a & b.\n",
    "    '''\n",
    "    if b == 0:\n",
    "        return a\n",
    "    else:\n",
    "        return gcdRecur(b, a % b)"
   ]
  },
  {
   "cell_type": "markdown",
   "metadata": {},
   "source": [
    "Note: In programming there are many ways to solve a problem. For your code to check correctly here, though, you must write your recursive function such that you make a recursive call directly to the function gcdRecur. Thank you for understanding.\n",
    "\n",
    "If you are getting the error stating that \"Your code should be recursive\" when you already make a call to gcdRecur: check your indention -- specifically, a common mistake is that your function and docstring do not start at the same indentation level."
   ]
  }
 ],
 "metadata": {
  "kernelspec": {
   "display_name": "Python 3",
   "language": "python",
   "name": "python3"
  },
  "language_info": {
   "codemirror_mode": {
    "name": "ipython",
    "version": 3
   },
   "file_extension": ".py",
   "mimetype": "text/x-python",
   "name": "python",
   "nbconvert_exporter": "python",
   "pygments_lexer": "ipython3",
   "version": "3.11.1"
  }
 },
 "nbformat": 4,
 "nbformat_minor": 2
}
