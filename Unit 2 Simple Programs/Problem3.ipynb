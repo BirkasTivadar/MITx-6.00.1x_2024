{
 "cells": [
  {
   "cell_type": "markdown",
   "metadata": {},
   "source": [
    "### Problem 3 - Using Bisection Search to Make the Program Faster"
   ]
  },
  {
   "cell_type": "markdown",
   "metadata": {},
   "source": [
    "You'll notice that in Problem 2, your monthly payment had to be a multiple of $10. Why did we make it that way? You can try running your code locally so that the payment can be any dollar and cent amount (in other words, the monthly payment is a multiple of $0.01). Does your code still work? It should, but you may notice that your code runs more slowly, especially in cases with very large balances and interest rates. (Note: when your code is running on our servers, there are limits on the amount of computing time each submission is allowed, so your observations from running this experiment on the grading system might be limited to an error message complaining about too much time taken.)\n",
    "\n",
    "Well then, how can we calculate a more accurate fixed monthly payment than we did in Problem 2 without running into the problem of slow code? We can make this program run faster using a technique introduced in lecture - bisection search!\n",
    "\n",
    "The following variables contain values as described below:\n",
    "\n",
    "1. balance - the outstanding balance on the credit card\n",
    "\n",
    "2. annualInterestRate - annual interest rate as a decimal\n",
    "\n",
    "To recap the problem: we are searching for the smallest monthly payment such that we can pay off the entire balance within a year. What is a reasonable <b>lower bound</b> for this payment value? $0 is the obvious answer, but you can do better than that. If there was no interest, the debt can be paid off by monthly payments of one-twelfth of the original balance, so we must pay at least this much every month. One-twelfth of the original balance is a good lower bound.\n",
    "\n",
    "What is a good <b>upper bound</b>? Imagine that instead of paying monthly, we paid off the entire balance at the end of the year. What we ultimately pay must be greater than what we would've paid in monthly installments, because the interest was compounded on the balance we didn't pay off each month. So a good upper bound for the monthly payment would be one-twelfth of the balance, after having its interest compounded monthly for an entire year.\n",
    "\n",
    "In short:\n",
    "\n",
    "<b>Monthly interest rate</b> = (Annual interest rate) / 12.0<br>\n",
    "<b>Monthly payment lower bound</b> = Balance / 12<br>\n",
    "<b>Monthly payment upper bound</b> = (Balance x (1 + Monthly interest rate)12) / 12.0\n",
    "\n",
    "Write a program that uses these bounds and bisection search (for more info check out the Wikipedia page on bisection search: https://en.wikipedia.org/wiki/Bisection_method) to find the smallest monthly payment to the cent (no more multiples of $10) such that we can pay off the debt within a year. Try it out with large inputs, and notice how fast it is (try the same large inputs in your solution to Problem 2 to compare!). Produce the same return value as you did in Problem 2.\n",
    "\n",
    "Note that if you do not use bisection search, your code will not run - your code only has 30 seconds to run on our servers."
   ]
  },
  {
   "cell_type": "markdown",
   "metadata": {},
   "source": [
    " <b>Test Cases to Test Your Code With.</b> Be sure to test these on your own machine - and that you get the same output! - before running your code on this webpage!"
   ]
  },
  {
   "cell_type": "markdown",
   "metadata": {},
   "source": [
    "<b>Problem 3 Test Cases</b>"
   ]
  },
  {
   "cell_type": "markdown",
   "metadata": {},
   "source": [
    "<b>Note:</b> The automated tests are leinient - if your answers are off by a few cents in either direction, your code is OK.\n",
    "\n",
    "Be sure to test these on your own machine - and that you get the same output! - before running your code on this webpage!\n",
    "\n",
    "Test Cases:\n",
    "\n"
   ]
  },
  {
   "cell_type": "markdown",
   "metadata": {},
   "source": [
    "\t      Test Case 1:\n",
    "\t      balance = 320000\n",
    "\t      annualInterestRate = 0.2\n",
    "\n",
    "\t      Result Your Code Should Generate:\n",
    "\t      -------------------\n",
    "\t      Lowest Payment: 29157.09\n",
    "      "
   ]
  },
  {
   "cell_type": "markdown",
   "metadata": {},
   "source": [
    "\t      Test Case 2:\n",
    "\t      balance = 999999\n",
    "\t      annualInterestRate = 0.18\n",
    "\t      \n",
    "\t      Result Your Code Should Generate:\n",
    "\t      -------------------\n",
    "\t      Lowest Payment: 90325.03"
   ]
  },
  {
   "cell_type": "code",
   "execution_count": null,
   "metadata": {},
   "outputs": [],
   "source": [
    "monthlyInterestRate = annualInterestRate / 12.0\n",
    "lowerBound = (balance / 12)\n",
    "upperBound = (balance * (1 + monthlyInterestRate) ** 12) / 12\n",
    "result = upperBound\n",
    "initBalance = balance\n",
    "\n",
    "while (upperBound - lowerBound) >= 0.003:\n",
    "    monthlyFix = (lowerBound + upperBound) / 2.0\n",
    "    balance = initBalance\n",
    "\n",
    "    for i in range(12):\n",
    "        balance -= monthlyFix\n",
    "        balance += balance * annualInterestRate / 12\n",
    "\n",
    "    if balance <= 0:\n",
    "        result = round(monthlyFix, 2)\n",
    "        upperBound = monthlyFix\n",
    "    else:\n",
    "        lowerBound = monthlyFix\n",
    "\n",
    "print(\"Lowest Payment:\", result)"
   ]
  },
  {
   "cell_type": "markdown",
   "metadata": {},
   "source": [
    "<b>Note:</b><br>\n",
    "Depending on where, and how frequently, you round during this function, your answers may be off a few cents in either direction. Try rounding as few times as possible in order to increase the accuracy of your result.\n",
    "\n"
   ]
  },
  {
   "cell_type": "markdown",
   "metadata": {},
   "source": [
    "<b>Do not define your own values</b>"
   ]
  },
  {
   "cell_type": "markdown",
   "metadata": {},
   "source": [
    "** For problems such as these, do not include input statements or define variables we told you would be given. Our automated testing will provide values for you - so write your code in the following box assuming those variables are already defined. The code you paste into the following box <b>should not</b> specify the values for the variables balance or annualInterestRate"
   ]
  }
 ],
 "metadata": {
  "kernelspec": {
   "display_name": "Python 3",
   "language": "python",
   "name": "python3"
  },
  "language_info": {
   "codemirror_mode": {
    "name": "ipython",
    "version": 3
   },
   "file_extension": ".py",
   "mimetype": "text/x-python",
   "name": "python",
   "nbconvert_exporter": "python",
   "pygments_lexer": "ipython3",
   "version": "3.11.1"
  }
 },
 "nbformat": 4,
 "nbformat_minor": 2
}
