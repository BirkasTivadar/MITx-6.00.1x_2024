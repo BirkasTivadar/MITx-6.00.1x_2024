{
 "cells": [
  {
   "cell_type": "markdown",
   "metadata": {},
   "source": [
    "Problem 2 - Paying Debt Off in a Year"
   ]
  },
  {
   "cell_type": "markdown",
   "metadata": {},
   "source": [
    "Now write a program that calculates the minimum fixed monthly payment needed in order pay off a credit card balance within 12 months. By a fixed monthly payment, we mean a single number which does not change each month, but instead is a constant amount that will be paid each month.\n",
    "\n",
    "In this problem, we will not be dealing with a minimum monthly payment rate.\n",
    "\n",
    "The following variables contain values as described below:\n",
    "\n",
    "1. balance - the outstanding balance on the credit card\n",
    "\n",
    "2. annualInterestRate - annual interest rate as a decimal\n",
    "\n",
    "The program should print out one line: the lowest monthly payment that will pay off all debt in under 1 year, for example:\n",
    "\n",
    "Lowest Payment: 180\n",
    "\n",
    "Assume that the interest is compounded monthly according to the balance at the end of the month (after the payment for that month is made). The monthly payment must be a multiple of $10 and is the same for all months. Notice that it is possible for the balance to become negative using this payment scheme, which is okay. A summary of the required math is found below:\n",
    "\n",
    "Monthly interest rate = (Annual interest rate) / 12.0<br>\n",
    "Monthly unpaid balance = (Previous balance) - (Minimum fixed monthly payment)<br>\n",
    "Updated balance each month = (Monthly unpaid balance) + (Monthly interest rate x Monthly unpaid balance)"
   ]
  },
  {
   "cell_type": "code",
   "execution_count": null,
   "metadata": {},
   "outputs": [],
   "source": [
    "result = (int(balance / 12 / 10)) * 10\n",
    "initBalance = balance\n",
    "\n",
    "while balance > 0:\n",
    "    balance = initBalance\n",
    "    result += 10\n",
    "    for i in range(12):\n",
    "        balance -= result\n",
    "        balance += balance * annualInterestRate / 12\n",
    "\n",
    "print(\"Lowest Payment:\", result)"
   ]
  },
  {
   "cell_type": "markdown",
   "metadata": {},
   "source": [
    "#### Hints"
   ]
  },
  {
   "cell_type": "markdown",
   "metadata": {},
   "source": [
    "##### <b>Hint: How to think about this problem?</b>\n",
    "<ul>\n",
    "<li>Start with $10 payments per month and calculate whether the balance will be paid off in a year this way (be sure to take into account the interest accrued each month).</li><br>\n",
    "<li>If $10 monthly payments are insufficient to pay off the debt within a year, increase the monthly payment by $10 and repeat.</li>\n",
    "</ul>\n",
    "\n",
    "##### <b>Hint: A way of structuring your code</b>\n",
    "<ul>\n",
    "<li>If you are struggling with how to structure your code, think about the following:</li>\n",
    "<ul>\n",
    "<li>Given an initial balance, what code would compute the balance at the end of the year?</li><br>\n",
    "<li>Now imagine that we try our initial balance with a monthly payment of $10. If there is a balance remaining at the end of the year, how could we write code that would reset the balance to the initial balance, increase the payment by $10, and try again (using the same code!) to compute the balance at the end of the year, to see if this new payment value is large enough.</li>\n",
    "<br>\n",
    "<li><b>I'm still confused!</b>\n",
    "\n",
    "A good way to implement this problem will be to use a loop structure. You may want to refresh your understanding of while loops. Think hard about how the program will know when it has found a good minimum monthly payment value - when a good value is found, the loop can terminate.</li>\n",
    "</ul>\n",
    "<li>Be careful - you don't want to overwrite the original value of balance. You'll need to save that value somehow for later reference!</li>\n",
    "</ul>"
   ]
  },
  {
   "cell_type": "markdown",
   "metadata": {},
   "source": [
    "Do not define your own values\n",
    "\n",
    "** For problems such as these, do not include input statements or define variables we told you would be given. Our automated testing will provide values for you - so write your code in the following box assuming those variables are already defined. The code you paste into the following box should not specify the values for the variables balance or annualInterestRate"
   ]
  }
 ],
 "metadata": {
  "kernelspec": {
   "display_name": "Python 3",
   "language": "python",
   "name": "python3"
  },
  "language_info": {
   "codemirror_mode": {
    "name": "ipython",
    "version": 3
   },
   "file_extension": ".py",
   "mimetype": "text/x-python",
   "name": "python",
   "nbconvert_exporter": "python",
   "pygments_lexer": "ipython3",
   "version": "3.11.1"
  }
 },
 "nbformat": 4,
 "nbformat_minor": 2
}
