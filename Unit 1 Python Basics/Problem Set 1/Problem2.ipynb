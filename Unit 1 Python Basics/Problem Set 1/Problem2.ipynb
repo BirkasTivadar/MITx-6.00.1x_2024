{
 "cells": [
  {
   "cell_type": "code",
   "execution_count": 1,
   "metadata": {},
   "outputs": [],
   "source": [
    "s = 'azcbobobegghakl'"
   ]
  },
  {
   "cell_type": "markdown",
   "metadata": {},
   "source": [
    "Problem 2"
   ]
  },
  {
   "cell_type": "markdown",
   "metadata": {},
   "source": [
    "Assume s is a string of lower case characters.\n",
    "\n",
    "Write a program that prints the number of times the string 'bob' occurs in s. For example, if s = 'azcbobobegghakl', then your program should print\n",
    "\n",
    "Number of times bob occurs is: 2"
   ]
  },
  {
   "cell_type": "code",
   "execution_count": 2,
   "metadata": {},
   "outputs": [
    {
     "name": "stdout",
     "output_type": "stream",
     "text": [
      "Number of times bob occurs is: 2\n"
     ]
    }
   ],
   "source": [
    "counter = 0\n",
    "\n",
    "while True:\n",
    "    if \"bob\" in s:\n",
    "        counter += 1\n",
    "        index = s.index(\"bob\")\n",
    "        s = s[index + 1 :]\n",
    "    else:\n",
    "        break\n",
    "\n",
    "print(\"Number of times bob occurs is: \" + str(counter))"
   ]
  }
 ],
 "metadata": {
  "kernelspec": {
   "display_name": "Python 3",
   "language": "python",
   "name": "python3"
  },
  "language_info": {
   "codemirror_mode": {
    "name": "ipython",
    "version": 3
   },
   "file_extension": ".py",
   "mimetype": "text/x-python",
   "name": "python",
   "nbconvert_exporter": "python",
   "pygments_lexer": "ipython3",
   "version": "3.11.1"
  }
 },
 "nbformat": 4,
 "nbformat_minor": 2
}
