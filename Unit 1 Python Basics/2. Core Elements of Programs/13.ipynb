{
 "cells": [
  {
   "cell_type": "code",
   "execution_count": 2,
   "metadata": {},
   "outputs": [],
   "source": [
    "end = int(input(\"Please, give me a number\"))"
   ]
  },
  {
   "cell_type": "markdown",
   "metadata": {},
   "source": [
    "Exercise: for"
   ]
  },
  {
   "cell_type": "markdown",
   "metadata": {},
   "source": [
    "Exercise: for exercise 1"
   ]
  },
  {
   "cell_type": "markdown",
   "metadata": {},
   "source": [
    "In this problem you'll be given a chance to practice writing some for loops."
   ]
  },
  {
   "cell_type": "markdown",
   "metadata": {},
   "source": [
    "1. Convert the following code into code that uses a for loop.\n",
    "\n",
    "    prints 2<br>\n",
    "prints 4<br>\n",
    "prints 6<br>\n",
    "prints 8<br>\n",
    "prints 10<br>\n",
    "prints Goodbye!"
   ]
  },
  {
   "cell_type": "code",
   "execution_count": 3,
   "metadata": {},
   "outputs": [
    {
     "name": "stdout",
     "output_type": "stream",
     "text": [
      "2\n",
      "4\n",
      "6\n",
      "8\n",
      "10\n",
      "Goodbye!\n"
     ]
    }
   ],
   "source": [
    "[print(i) for i in range(2, 11, 2)]\n",
    "\n",
    "print(\"Goodbye!\")"
   ]
  },
  {
   "cell_type": "markdown",
   "metadata": {},
   "source": [
    "Exercise: for exercise 2"
   ]
  },
  {
   "cell_type": "markdown",
   "metadata": {},
   "source": [
    "2. Convert the following code into code that uses a for loop.\n",
    "\n",
    "    prints Hello!<br>\n",
    "prints 10<br>\n",
    "prints 8<br>\n",
    "prints 6<br>\n",
    "prints 4<br>\n",
    "prints 2<br>"
   ]
  },
  {
   "cell_type": "code",
   "execution_count": 4,
   "metadata": {},
   "outputs": [
    {
     "name": "stdout",
     "output_type": "stream",
     "text": [
      "Hello!\n",
      "10\n",
      "8\n",
      "6\n",
      "4\n",
      "2\n"
     ]
    },
    {
     "data": {
      "text/plain": [
       "[None, None, None, None, None]"
      ]
     },
     "execution_count": 4,
     "metadata": {},
     "output_type": "execute_result"
    }
   ],
   "source": [
    "print(\"Hello!\")\n",
    "\n",
    "[print(i) for i in range(10, 0, -2)]"
   ]
  },
  {
   "cell_type": "markdown",
   "metadata": {},
   "source": [
    "Exercise: for exercise 3"
   ]
  },
  {
   "cell_type": "markdown",
   "metadata": {},
   "source": [
    "3. Write a for loop that sums the values 1 through end, inclusive. end is a variable that we define for you. So, for example, if we define end to be 6, your code should print out the result:\n",
    "\n",
    "    21\n",
    "\n",
    "    which is 1 + 2 + 3 + 4 + 5 + 6."
   ]
  },
  {
   "cell_type": "markdown",
   "metadata": {},
   "source": [
    "For problems such as these, do not include input statements or define variables we will provide for you. Our automating testing will provide values so write your code in the following box assuming these variables are already defined."
   ]
  },
  {
   "cell_type": "markdown",
   "metadata": {},
   "source": [
    "Hint: Don't Use A Variable Called 'sum'\n",
    "For reasons related to our grader, you cannot call your variable sum. Call it anything else, but not sum. If you do, you will be marked incorrectly.\n",
    "\n",
    "This is because sum is a Python built-in function for summing a list of numbers – we prevent you from using it because if you did it'd defeat the point of the exercise.\n",
    "\n",
    "Take it as a lesson – overwriting built-in functions is generally bad practice anyway (you'd not call a variable print, or while or elif - because if you did, how would you use those built-in functions/keywords?). A general rule of thumb is: when writing code in Idle, if a word turns orange or purple, then it is special in Python - it is either a keyword or a built in function. Don't give your variables the same name as any of the Python keywords or built in functions.\n",
    "\n",
    "Here is a list of Python keywords.\n",
    "https://docs.python.org/3/reference/lexical_analysis.html#keywords\n",
    "\n",
    "Here is a list of Python built-in functions.\n",
    "https://docs.python.org/3/library/functions.html\n",
    "\n",
    "You will learn more about functions in the next lecture sequence!"
   ]
  },
  {
   "cell_type": "code",
   "execution_count": 5,
   "metadata": {},
   "outputs": [
    {
     "name": "stdout",
     "output_type": "stream",
     "text": [
      "15\n"
     ]
    }
   ],
   "source": [
    "amount = 0\n",
    "\n",
    "for i in range(end + 1):\n",
    "    amount += i\n",
    "\n",
    "print(amount)"
   ]
  }
 ],
 "metadata": {
  "kernelspec": {
   "display_name": "Python 3",
   "language": "python",
   "name": "python3"
  },
  "language_info": {
   "codemirror_mode": {
    "name": "ipython",
    "version": 3
   },
   "file_extension": ".py",
   "mimetype": "text/x-python",
   "name": "python",
   "nbconvert_exporter": "python",
   "pygments_lexer": "ipython3",
   "version": "3.13.5"
  }
 },
 "nbformat": 4,
 "nbformat_minor": 2
}
