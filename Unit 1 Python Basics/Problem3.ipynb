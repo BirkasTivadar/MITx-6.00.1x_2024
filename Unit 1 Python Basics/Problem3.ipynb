{
 "cells": [
  {
   "cell_type": "code",
   "execution_count": 9,
   "metadata": {},
   "outputs": [],
   "source": [
    "s = 'azcbobobegghakl'"
   ]
  },
  {
   "cell_type": "markdown",
   "metadata": {},
   "source": [
    "Problem 3"
   ]
  },
  {
   "cell_type": "markdown",
   "metadata": {},
   "source": [
    "Assume s is a string of lower case characters.\n",
    "\n",
    "Write a program that prints the longest substring of s in which the letters occur in alphabetical order. \n",
    "For example, if s = 'azcbobobegghakl', \n",
    "then your program should print\n",
    "\n",
    "Longest substring in alphabetical order is: beggh\n",
    "\n",
    "In the case of ties, print the first substring. \n",
    "For example, if s = 'abcbcd', \n",
    "then your program should print\n",
    "\n",
    "Longest substring in alphabetical order is: abc\n",
    "\n",
    "Note: This problem may be challenging. We encourage you to work smart. If you've spent more than a few hours on this problem, we suggest that you move on to a different part of the course. If you have time, come back to this problem after you've had a break and cleared your head."
   ]
  },
  {
   "cell_type": "code",
   "execution_count": 10,
   "metadata": {},
   "outputs": [
    {
     "name": "stdout",
     "output_type": "stream",
     "text": [
      "Longest substring in alphabetical order is: beggh\n"
     ]
    }
   ],
   "source": [
    "substring = s[0]\n",
    "longestSubstring = s[0]\n",
    "\n",
    "for i in range(1, len(s)):\n",
    "    if ord(s[i]) >= ord(s[i - 1]):\n",
    "        substring += s[i]\n",
    "        if len(substring) > len(longestSubstring):\n",
    "            longestSubstring = substring\n",
    "    else:\n",
    "        substring = s[i]\n",
    "\n",
    "print(\"Longest substring in alphabetical order is: \" + longestSubstring)"
   ]
  }
 ],
 "metadata": {
  "kernelspec": {
   "display_name": "Python 3",
   "language": "python",
   "name": "python3"
  },
  "language_info": {
   "codemirror_mode": {
    "name": "ipython",
    "version": 3
   },
   "file_extension": ".py",
   "mimetype": "text/x-python",
   "name": "python",
   "nbconvert_exporter": "python",
   "pygments_lexer": "ipython3",
   "version": "3.11.1"
  }
 },
 "nbformat": 4,
 "nbformat_minor": 2
}
