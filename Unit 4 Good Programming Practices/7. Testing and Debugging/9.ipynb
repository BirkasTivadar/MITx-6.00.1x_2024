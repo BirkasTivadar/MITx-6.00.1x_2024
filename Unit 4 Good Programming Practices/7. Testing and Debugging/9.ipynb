{
 "cells": [
  {
   "cell_type": "markdown",
   "metadata": {},
   "source": [
    "#### <b>Exercise: integer division</b>"
   ]
  },
  {
   "cell_type": "markdown",
   "metadata": {},
   "source": [
    "Consider the following function definition:\n",
    "```\n",
    "def integerDivision(x, a):\n",
    "    \"\"\"\n",
    "    x: a non-negative integer argument\n",
    "    a: a positive integer argument\n",
    "\n",
    "    returns: integer, the integer division of x divided by a.\n",
    "    \"\"\"\n",
    "    while x >= a:\n",
    "        count += 1\n",
    "        x = x - a\n",
    "    return count\n",
    "```\n",
    "When we call\n",
    "```\n",
    "print(integerDivision(5, 3))\n",
    "```\n",
    "we get the following error message:\n",
    "```\n",
    "File \"temp.py\", line 9, in integerDivision\n",
    "    count += 1\n",
    "UnboundLocalError: local variable 'count' referenced before assignment\n",
    "```\n",
    "Your task is to modify the code for integerDivision so that this error does not occur."
   ]
  },
  {
   "cell_type": "code",
   "execution_count": 3,
   "metadata": {},
   "outputs": [],
   "source": [
    "def integerDivision(x, a):\n",
    "    \"\"\"\n",
    "    x: a non-negative integer argument\n",
    "    a: a positive integer argument\n",
    "\n",
    "    returns: integer, the integer division of x divided by a.\n",
    "    \"\"\"\n",
    "    count = 0\n",
    "    while x >= a:\n",
    "        count += 1\n",
    "        x = x - a\n",
    "    return count\n"
   ]
  },
  {
   "cell_type": "code",
   "execution_count": 4,
   "metadata": {},
   "outputs": [
    {
     "name": "stdout",
     "output_type": "stream",
     "text": [
      "1\n"
     ]
    }
   ],
   "source": [
    "print(integerDivision(5, 3))"
   ]
  }
 ],
 "metadata": {
  "kernelspec": {
   "display_name": "Python 3",
   "language": "python",
   "name": "python3"
  },
  "language_info": {
   "codemirror_mode": {
    "name": "ipython",
    "version": 3
   },
   "file_extension": ".py",
   "mimetype": "text/x-python",
   "name": "python",
   "nbconvert_exporter": "python",
   "pygments_lexer": "ipython3",
   "version": "3.11.1"
  }
 },
 "nbformat": 4,
 "nbformat_minor": 2
}
