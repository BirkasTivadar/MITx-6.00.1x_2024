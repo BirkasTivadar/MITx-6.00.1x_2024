{
 "cells": [
  {
   "cell_type": "markdown",
   "metadata": {},
   "source": [
    "#### <b>Exercise: how many</b>"
   ]
  },
  {
   "cell_type": "markdown",
   "metadata": {},
   "source": [
    "Consider the following sequence of expressions:"
   ]
  },
  {
   "cell_type": "code",
   "execution_count": 1,
   "metadata": {},
   "outputs": [],
   "source": [
    "animals = { 'a': ['aardvark'], 'b': ['baboon'], 'c': ['coati']}\n",
    "\n",
    "animals['d'] = ['donkey']\n",
    "animals['d'].append('dog')\n",
    "animals['d'].append('dingo')"
   ]
  },
  {
   "cell_type": "markdown",
   "metadata": {},
   "source": [
    "We want to write some simple procedures that work on dictionaries to return information.\n",
    "\n",
    "First, write a procedure, called how_many, which returns the sum of the number of values associated with a dictionary. For example:\n",
    "```\n",
    ">>> print(how_many(animals))\n",
    "6\n",
    "```"
   ]
  },
  {
   "cell_type": "code",
   "execution_count": 2,
   "metadata": {},
   "outputs": [],
   "source": [
    "def how_many(aDict):\n",
    "    '''\n",
    "    aDict: A dictionary, where all the values are lists.\n",
    "\n",
    "    returns: int, how many values are in the dictionary.\n",
    "    '''\n",
    "    return sum(len(value) for value in aDict.values())"
   ]
  }
 ],
 "metadata": {
  "kernelspec": {
   "display_name": "Python 3",
   "language": "python",
   "name": "python3"
  },
  "language_info": {
   "codemirror_mode": {
    "name": "ipython",
    "version": 3
   },
   "file_extension": ".py",
   "mimetype": "text/x-python",
   "name": "python",
   "nbconvert_exporter": "python",
   "pygments_lexer": "ipython3",
   "version": "3.11.1"
  }
 },
 "nbformat": 4,
 "nbformat_minor": 2
}
