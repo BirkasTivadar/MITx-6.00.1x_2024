{
 "cells": [
  {
   "cell_type": "markdown",
   "metadata": {},
   "source": [
    "# Hangman game\n",
    "\n",
    "Helper code<br>\n",
    "You don't need to understand this helper code,\n",
    "but you will have to know how to use the functions\n",
    "(so be sure to read the docstrings!)"
   ]
  },
  {
   "cell_type": "code",
   "execution_count": 1,
   "metadata": {},
   "outputs": [],
   "source": [
    "import random\n",
    "\n",
    "WORDLIST_FILENAME = \"words.txt\"\n",
    "\n",
    "def loadWords():\n",
    "    \"\"\"\n",
    "    Returns a list of valid words. Words are strings of lowercase letters.\n",
    "    \n",
    "    Depending on the size of the word list, this function may\n",
    "    take a while to finish.\n",
    "    \"\"\"\n",
    "    print(\"Loading word list from file...\")\n",
    "    # inFile: file\n",
    "    inFile = open(WORDLIST_FILENAME, 'r')\n",
    "    # line: string\n",
    "    line = inFile.readline()\n",
    "    # wordlist: list of strings\n",
    "    wordlist = line.split()\n",
    "    print(\"  \", len(wordlist), \"words loaded.\")\n",
    "    return wordlist"
   ]
  },
  {
   "cell_type": "code",
   "execution_count": 2,
   "metadata": {},
   "outputs": [],
   "source": [
    "def chooseWord(wordlist):\n",
    "    \"\"\"\n",
    "    wordlist (list): list of words (strings)\n",
    "\n",
    "    Returns a word from wordlist at random\n",
    "    \"\"\"\n",
    "    return random.choice(wordlist)"
   ]
  },
  {
   "cell_type": "markdown",
   "metadata": {},
   "source": [
    "end of helper code\n",
    "\n",
    "Load the list of words into the variable wordlist\n",
    "so that it can be accessed from anywhere in the program"
   ]
  },
  {
   "cell_type": "code",
   "execution_count": 3,
   "metadata": {},
   "outputs": [
    {
     "name": "stdout",
     "output_type": "stream",
     "text": [
      "Loading word list from file...\n",
      "   55909 words loaded.\n"
     ]
    }
   ],
   "source": [
    "wordlist = loadWords()"
   ]
  },
  {
   "cell_type": "markdown",
   "metadata": {},
   "source": [
    "##### <b>Problem 1</b>\n",
    "\n",
    "### Problem 1 - Is the Word Guessed\n",
    "\n",
    "Please read the Hangman Introduction before starting this problem. We'll start by writing 3 simple functions that will help us easily code the Hangman problem. First, implement the function isWordGuessed that takes in two parameters - a string, secretWord, and a list of letters, lettersGuessed. This function returns a boolean - True if secretWord has been guessed (ie, all the letters of secretWord are in lettersGuessed) and False otherwise.\n",
    "\n",
    "Example Usage:\n",
    "```\n",
    ">>> secretWord = 'apple' \n",
    ">>> lettersGuessed = ['e', 'i', 'k', 'p', 'r', 's']\n",
    ">>> print(isWordGuessed(secretWord, lettersGuessed))\n",
    "False\n",
    "```\n",
    "For this function, you may assume that all the letters in secretWord and lettersGuessed are lowercase."
   ]
  },
  {
   "cell_type": "code",
   "execution_count": 4,
   "metadata": {},
   "outputs": [],
   "source": [
    "def isWordGuessed(secretWord, lettersGuessed):\n",
    "    \"\"\"\n",
    "    secretWord: string, the word the user is guessing\n",
    "    lettersGuessed: list, what letters have been guessed so far\n",
    "    returns: boolean, True if all the letters of secretWord are in lettersGuessed;\n",
    "    False otherwise\n",
    "    \"\"\"\n",
    "    return set(lettersGuessed) & set(secretWord) == set(secretWord)"
   ]
  },
  {
   "cell_type": "markdown",
   "metadata": {},
   "source": [
    "##### <b>Problem 2</b>\n",
    "\n",
    "### Problem 2 - Getting the User's Guess\n",
    "\n",
    "Next, implement the function getGuessedWord that takes in two parameters - a string, secretWord, and a list of letters, lettersGuessed. This function returns a string that is comprised of letters and underscores, based on what letters in lettersGuessed are in secretWord. This shouldn't be too different from isWordGuessed!\n",
    "\n",
    "Example Usage:\n",
    "```\n",
    ">>> secretWord = 'apple' \n",
    ">>> lettersGuessed = ['e', 'i', 'k', 'p', 'r', 's']\n",
    ">>> print(getGuessedWord(secretWord, lettersGuessed))\n",
    "'_ pp_ e'\n",
    "```\n",
    "When inserting underscores into your string, it's a good idea to add at least a space after each one, so it's clear to the user how many unguessed letters are left in the string (compare the readability of ____ with _ _ _ _ ). This is called usability - it's very important, when programming, to consider the usability of your program. If users find your program difficult to understand or operate, they won't use it!\n",
    "\n",
    "For this problem, you are free to use spacing in any way you wish - our grader will only check that the letters and underscores are in the proper order; it will not look at spacing. We do encourage you to think about usability when designing.\n",
    "\n",
    "For this function, you may assume that all the letters in secretWord and lettersGuessed are lowercase.\n",
    "\n"
   ]
  },
  {
   "cell_type": "code",
   "execution_count": 5,
   "metadata": {},
   "outputs": [],
   "source": [
    "def getGuessedWord(secretWord, lettersGuessed):\n",
    "    \"\"\"\n",
    "    secretWord: string, the word the user is guessing\n",
    "    lettersGuessed: list, what letters have been guessed so far\n",
    "    returns: string, comprised of letters and underscores that represents\n",
    "    what letters in secretWord have been guessed so far.\n",
    "    \"\"\"\n",
    "    result = secretWord\n",
    "    for letter in secretWord:\n",
    "        if letter not in lettersGuessed:\n",
    "            result = result.replace(letter, \"_ \")\n",
    "    return result"
   ]
  },
  {
   "cell_type": "markdown",
   "metadata": {},
   "source": [
    "##### <b>Problem 3</b>\n",
    "\n",
    "### Problem 3 - Printing Out all Available Letters\n",
    "\n",
    "Next, implement the function getAvailableLetters that takes in one parameter - a list of letters, lettersGuessed. This function returns a string that is comprised of lowercase English letters - all lowercase English letters that are not in lettersGuessed.\n",
    "\n",
    "Example Usage:\n",
    "```\n",
    ">>> lettersGuessed = ['e', 'i', 'k', 'p', 'r', 's']\n",
    ">>> print(getAvailableLetters(lettersGuessed))\n",
    "abcdfghjlmnoqtuvwxyz\n",
    "```\n",
    "Note that this function should return the letters in alphabetical order, as in the example above.\n",
    "\n",
    "For this function, you may assume that all the letters in lettersGuessed are lowercase.\n",
    "\n",
    "Hint: You might consider using string.ascii_lowercase, which is a string comprised of all lowercase letters:\n",
    "```\n",
    ">>> import string\n",
    ">>> print(string.ascii_lowercase)\n",
    "abcdefghijklmnopqrstuvwxyz\n",
    "```"
   ]
  },
  {
   "cell_type": "code",
   "execution_count": 6,
   "metadata": {},
   "outputs": [],
   "source": [
    "import string"
   ]
  },
  {
   "cell_type": "code",
   "execution_count": 7,
   "metadata": {},
   "outputs": [],
   "source": [
    "def getAvailableLetters(lettersGuessed):\n",
    "    \"\"\"\n",
    "    lettersGuessed: list, what letters have been guessed so far\n",
    "    returns: string, comprised of letters that represents what letters have not\n",
    "    yet been guessed.\n",
    "    \"\"\"\n",
    "    return ''.join([letter for letter in string.ascii_lowercase if letter not in lettersGuessed])"
   ]
  },
  {
   "cell_type": "markdown",
   "metadata": {},
   "source": [
    "##### <b>Problem 4</b>\n",
    "\n",
    "### Problem 4 - The Game\n",
    "\n",
    "Now you will implement the function hangman, which takes one parameter - the secretWord the user is to guess. This starts up an interactive game of Hangman between the user and the computer. Be sure you take advantage of the three helper functions, isWordGuessed, getGuessedWord, and getAvailableLetters, that you've defined in the previous part."
   ]
  },
  {
   "cell_type": "markdown",
   "metadata": {},
   "source": [
    "##### Hints:\n",
    "<ul>\n",
    "<li>\n",
    "You should start by noticing where we're using the provided functions (at the top of ps3_hangman.py) to load the words and pick a random one. Note that the functions loadWords and chooseWord should only be used on your local machine, not in the tutor. When you enter in your solution in the tutor, you only need to give your hangman function.\n",
    "</li>\n",
    "<li>\n",
    "Consider using lower() to convert user input to lower case. For example:\n",
    "\n",
    "```\n",
    "guess = 'A'\n",
    "guessInLowerCase = guess.lower()\n",
    "```\n",
    "\n",
    "</li>\n",
    "<li>\n",
    "Consider writing additional helper functions if you need them!\n",
    "</li>\n",
    "<li>\n",
    "There are four important pieces of information you may wish to store:\n",
    "<br>\n",
    "<br>\n",
    "<ol>\n",
    "<li>secretWord: The word to guess.</li>\n",
    "<br>\n",
    "<li>lettersGuessed: The letters that have been guessed so far.</li>\n",
    "<br>\n",
    "<li>mistakesMade: The number of incorrect guesses made so far.</li>\n",
    "<br>\n",
    "<li>availableLetters: The letters that may still be guessed. Every time a player guesses a letter, the guessed letter must be removed from availableLetters (and if they guess a letter that is not in availableLetters, you should print a message telling them they've already guessed that - so try again!).</li>\n",
    "<ol>\n",
    "</li>\n",
    "</ul>"
   ]
  },
  {
   "cell_type": "markdown",
   "metadata": {},
   "source": [
    "##### Sample Output\n",
    "\n",
    "##### <b>The output of a winning game should look like this...</b>"
   ]
  },
  {
   "cell_type": "markdown",
   "metadata": {},
   "source": [
    "Loading word list from file...<br>\n",
    "\t55900 words loaded.<br>\n",
    "\tWelcome to the game Hangman!<br>\n",
    "\tI am thinking of a word that is 4 letters long.<br>\n",
    "\t-------------<br>\n",
    "\tYou have 8 guesses left.<br>\n",
    "\tAvailable letters: abcdefghijklmnopqrstuvwxyz<br>\n",
    "\tPlease guess a letter: a<br>\n",
    "\tGood guess: _ a_ _<br>\n",
    "\t------------<br>\n",
    "\tYou have 8 guesses left.<br>\n",
    "\tAvailable letters: bcdefghijklmnopqrstuvwxyz<br>\n",
    "\tPlease guess a letter: a<br>\n",
    "\tOops! You've already guessed that letter: _ a_ _<br>\n",
    "\t------------<br>\n",
    "\tYou have 8 guesses left.<br>\n",
    "\tAvailable letters: bcdefghijklmnopqrstuvwxyz<br>\n",
    "\tPlease guess a letter: s<br>\n",
    "\tOops! That letter is not in my word: _ a_ _<br>\n",
    "\t------------<br>\n",
    "\tYou have 7 guesses left.<br>\n",
    "\tAvailable letters: bcdefghijklmnopqrtuvwxyz<br>\n",
    "\tPlease guess a letter: t<br>\n",
    "\tGood guess: ta_ t<br>\n",
    "\t------------<br>\n",
    "\tYou have 7 guesses left.<br>\n",
    "\tAvailable letters: bcdefghijklmnopqruvwxyz<br>\n",
    "\tPlease guess a letter: r<br>\n",
    "\tOops! That letter is not in my word: ta_ t<br>\n",
    "\t------------<br>\n",
    "\tYou have 6 guesses left.<br>\n",
    "\tAvailable letters: bcdefghijklmnopquvwxyz<br>\n",
    "\tPlease guess a letter: m<br>\n",
    "\tOops! That letter is not in my word: ta_ t<br>\n",
    "\t------------<br>\n",
    "\tYou have 5 guesses left.<br>\n",
    "\tAvailable letters: bcdefghijklnopquvwxyz<br>\n",
    "\tPlease guess a letter: c<br>\n",
    "\tGood guess: tact<br>\n",
    "\t------------<br>\n",
    "\tCongratulations, you won!"
   ]
  },
  {
   "cell_type": "markdown",
   "metadata": {},
   "source": [
    "##### <b>And the output of a losing game should look like this...</b>"
   ]
  },
  {
   "cell_type": "markdown",
   "metadata": {},
   "source": [
    "Loading word list from file...<br>\n",
    "\t55900 words loaded.<br>\n",
    "\tWelcome to the game Hangman!<br>\n",
    "\tI am thinking of a word that is 4 letters long.<br>\n",
    "\t-----------<br>\n",
    "\tYou have 8 guesses left.<br>\n",
    "\tAvailable Letters: abcdefghijklmnopqrstuvwxyz<br>\n",
    "\tPlease guess a letter: a<br>\n",
    "\tOops! That letter is not in my word: _ _ _ _<br>\n",
    "\t-----------<br>\n",
    "\tYou have 7 guesses left.<br>\n",
    "\tAvailable Letters: bcdefghijklmnopqrstuvwxyz<br>\n",
    "\tPlease guess a letter: b<br>\n",
    "\tOops! That letter is not in my word: _ _ _ _<br>\n",
    "\t-----------<br>\n",
    "\tYou have 6 guesses left.<br>\n",
    "\tAvailable Letters: cdefghijklmnopqrstuvwxyz<br>\n",
    "\tPlease guess a letter: c<br>\n",
    "\tOops! That letter is not in my word: _ _ _ _<br>\n",
    "\t-----------<br>\n",
    "\tYou have 5 guesses left.<br>\n",
    "\tAvailable Letters: defghijklmnopqrstuvwxyz<br>\n",
    "\tPlease guess a letter: d<br>\n",
    "\tOops! That letter is not in my word: _ _ _ _<br>\n",
    "\t-----------<br>\n",
    "\tYou have 4 guesses left.<br>\n",
    "\tAvailable Letters: efghijklmnopqrstuvwxyz<br>\n",
    "\tPlease guess a letter: e<br>\n",
    "\tGood guess: e_ _ e<br>\n",
    "\t-----------<br>\n",
    "\tYou have 4 guesses left.<br>\n",
    "\tAvailable Letters: fghijklmnopqrstuvwxyz<br>\n",
    "\tPlease guess a letter: f<br>\n",
    "\tOops! That letter is not in my word: e_ _ e<br>\n",
    "\t-----------<br>\n",
    "\tYou have 3 guesses left.<br>\n",
    "\tAvailable Letters: ghijklmnopqrstuvwxyz<br>\n",
    "\tPlease guess a letter: g<br>\n",
    "\tOops! That letter is not in my word: e_ _ e<br>\n",
    "\t-----------<br>\n",
    "\tYou have 2 guesses left.<br>\n",
    "\tAvailable Letters: hijklmnopqrstuvwxyz<br>\n",
    "\tPlease guess a letter: h<br>\n",
    "\tOops! That letter is not in my word: e_ _ e<br>\n",
    "\t-----------<br>\n",
    "\tYou have 1 guesses left.<br>\n",
    "\tAvailable Letters: ijklmnopqrstuvwxyz<br>\n",
    "\tPlease guess a letter: i<br>\n",
    "\tOops! That letter is not in my word: e_ _ e<br>\n",
    "\t-----------<br>\n",
    "\tSorry, you ran out of guesses. The word was else. \n",
    "          "
   ]
  },
  {
   "cell_type": "markdown",
   "metadata": {},
   "source": [
    "Note that if you choose to use the helper functions isWordGuessed, getGuessedWord, or getAvailableLetters, you do not need to paste your definitions in the box. We have supplied our implementations of these functions for your use in this part of the problem. If you use additional helper functions, you will need to paste those definitions here.\n",
    "\n",
    "Your function should include calls to input to get the user's guess.\n",
    "\n",
    "<b>Why does my Output Have None at Various Places?</b>\n",
    "\n",
    "None is a keyword and it comes from the fact that you are printing the result of a function that does not return anything. For example:\n",
    "```\n",
    " def foo(x):\n",
    "        print(x)\n",
    "```       \n",
    "If you just call the function with foo(3), you will see output:\n",
    "```\n",
    "    3   #-- because the function printed the variable\n",
    "```\n",
    "However, if you do print(foo(3)), you will see output:\n",
    "```\n",
    "    3     #-- because the function printed the variable\n",
    "    None  #-- because you printed the function (and hence the return)\n",
    "```\n",
    "All functions return something. If a function you write does not return anything (and just prints something to the console), then the default action in Python is to return None"
   ]
  },
  {
   "cell_type": "code",
   "execution_count": 8,
   "metadata": {},
   "outputs": [],
   "source": [
    "def checkLetter(letter, lettersGuessed, numberOfChance, secretWord):\n",
    "    separator = '-------------'\n",
    "    if letter not in secretWord and letter not in lettersGuessed:\n",
    "        numberOfChance -= 1\n",
    "        lettersGuessed.append(letter)\n",
    "        print('Oops! That letter is not in my word:', getGuessedWord(secretWord, lettersGuessed))\n",
    "        print(separator)\n",
    "    elif letter not in lettersGuessed:\n",
    "        lettersGuessed.append(letter)\n",
    "        print('Good guess:', getGuessedWord(secretWord, lettersGuessed))\n",
    "        print(separator)\n",
    "    else:\n",
    "        print(\"Oops! You've already guessed that letter:\", getGuessedWord(secretWord, lettersGuessed))\n",
    "        print(separator)\n",
    "    return numberOfChance"
   ]
  },
  {
   "cell_type": "code",
   "execution_count": 9,
   "metadata": {},
   "outputs": [],
   "source": [
    "def hangman(secretWord):\n",
    "    '''\n",
    "    secretWord: string, the secret word to guess.\n",
    "\n",
    "    Starts up an interactive game of Hangman.\n",
    "\n",
    "    * At the start of the game, let the user know how many\n",
    "      letters the secretWord contains.\n",
    "\n",
    "    * Ask the user to supply one guess (i.e. letter) per round.\n",
    "\n",
    "    * The user should receive feedback immediately after each guess\n",
    "      about whether their guess appears in the computers word.\n",
    "\n",
    "    * After each round, you should also display to the user the\n",
    "      partially guessed word so far, as well as letters that the\n",
    "      user has not yet guessed.\n",
    "\n",
    "    Follows the other limitations detailed in the problem write-up.\n",
    "    '''\n",
    "    print('Welcome to the game Hangman!')\n",
    "    print('I am thinking of a word that is', len(secretWord), 'letters long.')\n",
    "    print('-------------')\n",
    "\n",
    "    numberOfChance = 8\n",
    "    lettersGuessed = []\n",
    "    while numberOfChance > 0:\n",
    "        print('You have', numberOfChance, 'guesses left.')\n",
    "        print('Available letters:', getAvailableLetters(lettersGuessed))\n",
    "        letterGuess = input('Please guess a letter: ')\n",
    "        letter = letterGuess.lower()\n",
    "\n",
    "        numberOfChance = checkLetter(letter, lettersGuessed, numberOfChance, secretWord)\n",
    "\n",
    "        if isWordGuessed(secretWord, lettersGuessed):\n",
    "            print('Congratulations, you won!')\n",
    "            return\n",
    "\n",
    "    print('Sorry, you ran out of guesses. The word was else. ')\n",
    "    return\n"
   ]
  }
 ],
 "metadata": {
  "kernelspec": {
   "display_name": "Python 3",
   "language": "python",
   "name": "python3"
  },
  "language_info": {
   "codemirror_mode": {
    "name": "ipython",
    "version": 3
   },
   "file_extension": ".py",
   "mimetype": "text/x-python",
   "name": "python",
   "nbconvert_exporter": "python",
   "pygments_lexer": "ipython3",
   "version": "3.11.1"
  }
 },
 "nbformat": 4,
 "nbformat_minor": 2
}
