{
 "cells": [
  {
   "cell_type": "markdown",
   "metadata": {},
   "source": [
    "# Hangman game\n",
    "\n",
    "Helper code<br>\n",
    "You don't need to understand this helper code,\n",
    "but you will have to know how to use the functions\n",
    "(so be sure to read the docstrings!)"
   ]
  },
  {
   "cell_type": "code",
   "execution_count": 23,
   "metadata": {},
   "outputs": [],
   "source": [
    "import random\n",
    "\n",
    "WORDLIST_FILENAME = \"words.txt\"\n",
    "\n",
    "def loadWords():\n",
    "    \"\"\"\n",
    "    Returns a list of valid words. Words are strings of lowercase letters.\n",
    "    \n",
    "    Depending on the size of the word list, this function may\n",
    "    take a while to finish.\n",
    "    \"\"\"\n",
    "    print(\"Loading word list from file...\")\n",
    "    # inFile: file\n",
    "    inFile = open(WORDLIST_FILENAME, 'r')\n",
    "    # line: string\n",
    "    line = inFile.readline()\n",
    "    # wordlist: list of strings\n",
    "    wordlist = line.split()\n",
    "    print(\"  \", len(wordlist), \"words loaded.\")\n",
    "    return wordlist"
   ]
  },
  {
   "cell_type": "code",
   "execution_count": 24,
   "metadata": {},
   "outputs": [],
   "source": [
    "def chooseWord(wordlist):\n",
    "    \"\"\"\n",
    "    wordlist (list): list of words (strings)\n",
    "\n",
    "    Returns a word from wordlist at random\n",
    "    \"\"\"\n",
    "    return random.choice(wordlist)"
   ]
  },
  {
   "cell_type": "markdown",
   "metadata": {},
   "source": [
    "end of helper code\n",
    "\n",
    "Load the list of words into the variable wordlist\n",
    "so that it can be accessed from anywhere in the program"
   ]
  },
  {
   "cell_type": "code",
   "execution_count": 25,
   "metadata": {},
   "outputs": [
    {
     "name": "stdout",
     "output_type": "stream",
     "text": [
      "Loading word list from file...\n",
      "   55909 words loaded.\n"
     ]
    }
   ],
   "source": [
    "wordlist = loadWords()"
   ]
  },
  {
   "cell_type": "markdown",
   "metadata": {},
   "source": [
    "##### <b>Problem 1</b>\n",
    "\n",
    "### Problem 1 - Is the Word Guessed\n",
    "\n",
    "Please read the Hangman Introduction before starting this problem. We'll start by writing 3 simple functions that will help us easily code the Hangman problem. First, implement the function isWordGuessed that takes in two parameters - a string, secretWord, and a list of letters, lettersGuessed. This function returns a boolean - True if secretWord has been guessed (ie, all the letters of secretWord are in lettersGuessed) and False otherwise.\n",
    "\n",
    "Example Usage:\n",
    "```\n",
    ">>> secretWord = 'apple' \n",
    ">>> lettersGuessed = ['e', 'i', 'k', 'p', 'r', 's']\n",
    ">>> print(isWordGuessed(secretWord, lettersGuessed))\n",
    "False\n",
    "```\n",
    "For this function, you may assume that all the letters in secretWord and lettersGuessed are lowercase."
   ]
  },
  {
   "cell_type": "code",
   "execution_count": 26,
   "metadata": {},
   "outputs": [],
   "source": [
    "def isWordGuessed(secretWord, lettersGuessed):\n",
    "    \"\"\"\n",
    "    secretWord: string, the word the user is guessing\n",
    "    lettersGuessed: list, what letters have been guessed so far\n",
    "    returns: boolean, True if all the letters of secretWord are in lettersGuessed;\n",
    "    False otherwise\n",
    "    \"\"\"\n",
    "    return set(lettersGuessed) & set(secretWord) == set(secretWord)"
   ]
  },
  {
   "cell_type": "markdown",
   "metadata": {},
   "source": [
    "##### <b>Problem 2</b>\n",
    "\n",
    "### Problem 2 - Getting the User's Guess\n",
    "\n",
    "Next, implement the function getGuessedWord that takes in two parameters - a string, secretWord, and a list of letters, lettersGuessed. This function returns a string that is comprised of letters and underscores, based on what letters in lettersGuessed are in secretWord. This shouldn't be too different from isWordGuessed!\n",
    "\n",
    "Example Usage:\n",
    "```\n",
    ">>> secretWord = 'apple' \n",
    ">>> lettersGuessed = ['e', 'i', 'k', 'p', 'r', 's']\n",
    ">>> print(getGuessedWord(secretWord, lettersGuessed))\n",
    "'_ pp_ e'\n",
    "```\n",
    "When inserting underscores into your string, it's a good idea to add at least a space after each one, so it's clear to the user how many unguessed letters are left in the string (compare the readability of ____ with _ _ _ _ ). This is called usability - it's very important, when programming, to consider the usability of your program. If users find your program difficult to understand or operate, they won't use it!\n",
    "\n",
    "For this problem, you are free to use spacing in any way you wish - our grader will only check that the letters and underscores are in the proper order; it will not look at spacing. We do encourage you to think about usability when designing.\n",
    "\n",
    "For this function, you may assume that all the letters in secretWord and lettersGuessed are lowercase.\n",
    "\n"
   ]
  },
  {
   "cell_type": "code",
   "execution_count": 27,
   "metadata": {},
   "outputs": [],
   "source": [
    "def getGuessedWord(secretWord, lettersGuessed):\n",
    "    \"\"\"\n",
    "    secretWord: string, the word the user is guessing\n",
    "    lettersGuessed: list, what letters have been guessed so far\n",
    "    returns: string, comprised of letters and underscores that represents\n",
    "    what letters in secretWord have been guessed so far.\n",
    "    \"\"\"\n",
    "    result = secretWord\n",
    "    for letter in secretWord:\n",
    "        if letter not in lettersGuessed:\n",
    "            result = result.replace(letter, \"_ \")\n",
    "    return result"
   ]
  },
  {
   "cell_type": "markdown",
   "metadata": {},
   "source": [
    "##### <b>Problem 3</b>\n",
    "\n",
    "### Problem 3 - Printing Out all Available Letters\n",
    "\n",
    "Next, implement the function getAvailableLetters that takes in one parameter - a list of letters, lettersGuessed. This function returns a string that is comprised of lowercase English letters - all lowercase English letters that are not in lettersGuessed.\n",
    "\n",
    "Example Usage:\n",
    "```\n",
    ">>> lettersGuessed = ['e', 'i', 'k', 'p', 'r', 's']\n",
    ">>> print(getAvailableLetters(lettersGuessed))\n",
    "abcdfghjlmnoqtuvwxyz\n",
    "```\n",
    "Note that this function should return the letters in alphabetical order, as in the example above.\n",
    "\n",
    "For this function, you may assume that all the letters in lettersGuessed are lowercase.\n",
    "\n",
    "Hint: You might consider using string.ascii_lowercase, which is a string comprised of all lowercase letters:\n",
    "```\n",
    ">>> import string\n",
    ">>> print(string.ascii_lowercase)\n",
    "abcdefghijklmnopqrstuvwxyz\n",
    "```"
   ]
  },
  {
   "cell_type": "code",
   "execution_count": 28,
   "metadata": {},
   "outputs": [],
   "source": [
    "import string"
   ]
  },
  {
   "cell_type": "code",
   "execution_count": 29,
   "metadata": {},
   "outputs": [],
   "source": [
    "def getAvailableLetters(lettersGuessed):\n",
    "    \"\"\"\n",
    "    lettersGuessed: list, what letters have been guessed so far\n",
    "    returns: string, comprised of letters that represents what letters have not\n",
    "    yet been guessed.\n",
    "    \"\"\"\n",
    "    return ''.join([letter for letter in string.ascii_lowercase if letter not in lettersGuessed])"
   ]
  }
 ],
 "metadata": {
  "kernelspec": {
   "display_name": "Python 3",
   "language": "python",
   "name": "python3"
  },
  "language_info": {
   "codemirror_mode": {
    "name": "ipython",
    "version": 3
   },
   "file_extension": ".py",
   "mimetype": "text/x-python",
   "name": "python",
   "nbconvert_exporter": "python",
   "pygments_lexer": "ipython3",
   "version": "3.11.1"
  }
 },
 "nbformat": 4,
 "nbformat_minor": 2
}
